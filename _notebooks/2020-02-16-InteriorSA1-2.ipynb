{
 "cells": [
  {
   "cell_type": "markdown",
   "metadata": {},
   "source": [
    "# \"Part 1: 1.2. Interior Space Architecture in aPBLandscape for Organismic aFootball\"\n",
    "> Space species in Organismic Football Playground\n",
    "- toc: true\n",
    "- branch: master\n",
    "- badges: true\n",
    "- description: Space species in the Organismic Football Playground\n",
    "- comments: true\n",
    "- image: images/03HVvisualfield.png\n",
    "- author: Charles R Paez Monzon\n",
    "- categories: [Affordances, aFICS Literacy, Organismic football, Convex hull]\n",
    "- hide: true\n",
    "- search_exclude: true\n",
    "- metadata_key1: Affordances\n",
    "- metadata_key2: Convex_Hull"
   ]
  },
  {
   "cell_type": "markdown",
   "metadata": {},
   "source": [
    "# 2. Interior Space Architecture in aPBLandscape for Organic aFootball\n",
    "> > **Charles R Paez Monzon** 2020 aNatureTechnologies\n",
    "\n",
    "> ” …after all, on the pitch what we see are plays, not data” - Clement Lengled\n",
    "\n",
    "> \"There is no exterior, just interior in the closed aFICS Football Universe and it is full of affordances” - aF Vision\n",
    "\n",
    "> \"The main affordance of interior space architecture invites and constrain to play in an organismic aFootball style” - aF Vision"
   ]
  },
  {
   "cell_type": "markdown",
   "metadata": {},
   "source": [
    "## 2.1. Affordances, Landscape Fitness and aFICS Literacy"
   ]
  },
  {
   "cell_type": "markdown",
   "metadata": {},
   "source": [
    "Gon, playing alone, is learning to explore and exploit the aPBLandscape. He is instructed to *observe and perceive the environment in behavioral terms* or as **processes**. The **set of things** (goals, patch-zones, the ball) in the playground, provides **opportunities for and constrains his agency to move himself out-ball control or on-ball control in the next direction or next play**, or **affordances** in order to answer the great question: \n",
    "\n",
    "**What is like to play football**? \n",
    "\n",
    "That in his circunstances, only depends on the channeling that all 'actual affordances' perceived by him constrain Gon's 'autonomy' in the context of his own aFICS skills and his football action capabilities.\n",
    "\n",
    "Affordances are properties of the coupled dynamical systems Gon-aPBLandscape, scaled to his action capabilities (strength, speed, reaction times, height, weight, body dimensions) and, affordances are perceived by Gon as he learn to establish a **Gon-aPBLandscape fit**.\n",
    "\n",
    "Academia Emeritense knows that its first cognitive task in Gon’s aFICS footbal education is help him to acquire the idea of perceive the patched landscape, and later the pitch, in relation to constrain its functionality as a footballer. Its meaning is rooted in the affordances that provide insights in what Gon learns and how he accomplished the motor task with open inteligence that guides the 'reduced' decision making process of how and when to act{% fn 1 %}.\n",
    "\n",
    "Gon and AcEmFC know that **learning a skill** must be understood as the emergence of an adaptive, functional dynamic and constrained relation between he and his football environment fitness. This fit is influenced by a set of constrains, always present, due to\n",
    "\n",
    "- His individual biophysical, emotional, mental and psycological constrains and,\n",
    "- Environmental physical, patch-inherents constrains and most important its set of affordances offered to him in any event\n",
    "\n",
    "All of them must be used and exploited by Gon as opportunities for his agency in the aPBLandscape and his actions will be observed by the head coach HC as a *metric* of his basic **aFICS literacy**.\n",
    "\n",
    "In this perspective, Gon involves understanding of his whole body - embodied - with affordances offered by the - embedded - aPBLandscape will determine his agency or task performance in the ground play. aFICS literacy is the metric used during his **aFICS synergon development process** until he left Academia Emeritense FC. Literacy must be understood by our talents as ‘*being educated*’ in our aFICS vision in the language game in the community.\n",
    "\n",
    "Moreover, the perception of affordances evolves and changes as capability for skilled action improves. It is our responsability to offer, in the physical plant of our institution, through deliberate design facilities for enhance motor skills improvement.\n",
    "\n",
    "Let me help any player an aid that expand his vision of the invisible that Clement Lengled does not consider… after all, on the aPBLandscape **we see actual affordances and plays**, not data."
   ]
  },
  {
   "cell_type": "markdown",
   "metadata": {},
   "source": [
    "## 2.2. Graph Model of the Interior of the Patched Landscape"
   ]
  },
  {
   "cell_type": "markdown",
   "metadata": {},
   "source": [
    "Let us move from the bounded landscape model of the aFootball Universe with a perimeter and an interior space to a more strict idea of an empty patched landscape without perimeter and **just constitued for interior space**. "
   ]
  },
  {
   "cell_type": "markdown",
   "metadata": {},
   "source": [
    "> Note:\n",
    "This landscape called **aPLandscape** has eighteen patch-zones {0,1,2,3,4,5,6,7,8,9,10,11,12,13,14,15,16,17} and fifty five bidirectional spatial- *adjacency relationships between patches*, included eigthteen spatial-adjecency self-relations of the patches themselves. "
   ]
  },
  {
   "cell_type": "markdown",
   "metadata": {},
   "source": [
    "The aPLandscape is shown in Figure 1.2.1. and modeled as the network graph PL in Figure 1.2.2."
   ]
  },
  {
   "cell_type": "code",
   "execution_count": null,
   "metadata": {},
   "outputs": [],
   "source": [
    "![](../images/12aPLandscape.png \"Figure 1.2.1. Interior Space in aPLandscape\")"
   ]
  },
  {
   "cell_type": "code",
   "execution_count": null,
   "metadata": {},
   "outputs": [],
   "source": [
    "![](../images/12interior_aPLandscape_neighborhood.png \"Figure 1.2.2. aFootball Interior Space in aPLandscape Graph\")"
   ]
  },
  {
   "cell_type": "markdown",
   "metadata": {},
   "source": [
    "## 2.3. Affordance of Organic aFootball: Core-Convex_Hull Subspace Control"
   ]
  },
  {
   "cell_type": "markdown",
   "metadata": {},
   "source": [
    "The organization of space into meso subspaces sets reveals the existence of a terrain **hierarchy of affordances** in the aPLandscape that invites to responds with plays and tasks propers of an **organismic aFootball style and strategy**. One in which a **core-modulus** is a positional set up in order to create *intermediate plays* in the inner subspace and with a larger **membrane-modulus** positional set up where to *transport* and *mantain* intermediate plays.\n",
    "\n",
    "A team can be possitioned in a kind of convex closure of a shape that contains all outter patches. It is the **convex hull**, a geometric concept that emerges from the space architecture as a kind of *complexity of the landscape*. An invitation to move and play the ball in this convex hull that currently separates inner and outter subspaces and, with a subsumed core modulus."
   ]
  },
  {
   "cell_type": "code",
   "execution_count": null,
   "metadata": {},
   "outputs": [],
   "source": [
    "![](../images/inaFootball_Space_Architecture.png \"Figure 5.3. Space Architecture of the Interior Subspace in aPLandscape\")"
   ]
  },
  {
   "cell_type": "markdown",
   "metadata": {},
   "source": [
    "## 2.4. Network Properties of Space Architecture of aPLandscape"
   ]
  },
  {
   "cell_type": "markdown",
   "metadata": {},
   "source": [
    "The network properties of PL graph, the relational model of the aPLandscape’s interior, shows 18 nodes representing patches and 324 interactions of i-adjacency length, where i in {0,1,2,3,4,5} range. The total length of those interactions is 714 and an average shortest path length 2.2037037\n",
    "\n",
    "Assume Mon, a second man, enters to the aPLandscape to constitute a minimal AcEmFC team {Gon, Mon}.Now on, there are 1132 possible Gon’s **possible moves|passes of the ball from the centroid of each patch to the centroid of other patch**, stasis included in the interior of the aPLandscape. To use these abundant set of affordances as opportunities to play; the minimal football team must adopt a **possitional football** style.\n",
    "\n",
    "The PL graph has **small-world** network properties: a combination of high local clustering of connections between topologically neighboring patches (178-out-of-324) that is associated with *high topological efficiency of ball flow* and short topological path lengths between any pair of patches (apl = 2.20). This is the reason to play in the aPLandscape a **possessional football**.\n",
    "\n",
    "The *high efficiency of ball flow* in the aPLandscape can be achieved by using the relatively medium connection density (~36% of maximum - diameter=5 - inter-patch connectivity) that means must intermix local short ball translation with often global patch connectivity offered by 4-length paths or once-in-a-while with 5-length passes. Therefore, this style of *trajectory creation* must remember the ideas of progress to the opponent goal patch and the use of contralateral traslations in the end- up subphase that ends in the omega-point. One point to re-mark about the aPLandscape is the variable decreasing value of the parallel cords when approaching a goal thing{% fn 2 %}."
   ]
  },
  {
   "cell_type": "markdown",
   "metadata": {},
   "source": [
    "> Tip:\n",
    "d(u,v)-_ShortestPath_ If there are multiple paths connecting two nodes u,v, then the _shortest path_ is considered as the distance between the two nodes d(u,v)"
   ]
  },
  {
   "cell_type": "markdown",
   "metadata": {},
   "source": [
    "> Tip:\n",
    "apl(u,v) average shortest path length The mean shortest path length - geodesic distance of the graph"
   ]
  },
  {
   "cell_type": "markdown",
   "metadata": {},
   "source": [
    "### Table 1.2.1. Number of Paths of i-adjacency length in the interior of aPLandscape"
   ]
  },
  {
   "cell_type": "code",
   "execution_count": null,
   "metadata": {},
   "outputs": [],
   "source": [
    "| length |  #paths|\n",
    "|--------|--------|\n",
    "|   0  |  18  |\n",
    "|   1  |  74  |\n",
    "|   2  | 104  |\n",
    "|   3  |  86  |\n",
    "|   4  |  36  |\n",
    "|   5  |   6  |"
   ]
  },
  {
   "cell_type": "markdown",
   "metadata": {},
   "source": [
    "### Table 1.2.2. i-adjacency length of all possible single source patch-to-patch interactions in the interior of aPLandscape"
   ]
  },
  {
   "cell_type": "markdown",
   "metadata": {},
   "source": [
    "|pz  |                                       (target_pz:length, )                                                         |  Z |\n",
    "|----|--------------------------------------------------------------------------------------------------------------------|----|\n",
    "| 0 |({0: 0, 1: 1, 2: 1, 5: 1, 3: 2, 6: 2, 4: 2, 7: 2, 8: 2, 13: 3, 16: 3, 12: 3, 15: 3, 17: 3, 11: 4, 14: 4, 10: 4, 9: 5}| 45 |\n",
    "| 1 |({1: 0, 0: 1, 3: 1, 5: 1, 6: 1, 2: 2, 13: 2, 7: 2, 8: 2, 16: 2, 4: 3, 11: 3, 15: 3, 17: 3, 14: 3, 12: 4, 9: 4, 10: 4}| 41 |\n",
    "| 2 |({2: 0, 0: 1, 4: 1, 5: 1, 7: 1, 1: 2, 12: 2, 6: 2, 8: 2, 15: 2, 3: 3, 10: 3, 16: 3, 17: 3, 14: 3, 13: 4, 9: 4, 11: 4}| 41 |\n",
    "| 3 |({3: 0, 1: 1, 6: 1, 13: 1, 0: 2, 5: 2, 8: 2, 16: 2, 11: 2, 2: 3, 7: 3, 17: 3, 14: 3, 9: 3, 4: 4, 15: 4, 10: 4, 12: 5} |45 |\n",
    "| 4 |({4: 0, 2: 1, 7: 1, 12: 1, 0: 2, 5: 2, 8: 2, 15: 2, 10: 2, 1: 3, 6: 3, 17: 3, 14: 3, 9: 3, 3: 4, 16: 4, 11: 4, 13: 5} |45 |\n",
    "| 5 |({5: 0, 0: 1, 1: 1, 2: 1, 6: 1, 7: 1, 8: 1, 3: 2, 4: 2, 16: 2, 15: 2, 17: 2, 13: 3, 12: 3, 11: 3, 14: 3, 10: 3, 9: 4} |35 |\n",
    "| 6 |({6: 0, 1: 1, 3: 1, 5: 1, 8: 1, 16: 1, 0: 2, 13: 2, 2: 2, 7: 2, 17: 2, 11: 2, 14: 2, 4: 3, 15: 3, 9: 3, 10: 3, 12: 4} |35 |\n",
    "| 7 |({7: 0, 2: 1, 4: 1, 5: 1, 8: 1, 15: 1, 0: 2, 12: 2, 1: 2, 6: 2, 17: 2, 10: 2, 14: 2, 3: 3, 16: 3, 9: 3, 11: 3, 13: 4} |35 |\n",
    "| 8 |({8: 0, 5: 1, 6: 1, 7: 1, 17: 1, 0: 2, 1: 2, 2: 2, 3: 2, 16: 2, 4: 2, 15: 2, 14: 2, 13: 3, 11: 3, 12: 3, 10: 3, 9: 3} |35 |\n",
    "| 9 |({9: 0, 10: 1, 11: 1, 14: 1, 12: 2, 15: 2, 13: 2, 16: 2, 17: 2, 4: 3, 7: 3, 3: 3, 6: 3, 8: 3, 2: 4, 5: 4, 1: 4, 0: 5} |45 |\n",
    "|10 |({10: 0, 9: 1, 12: 1, 14: 1, 15: 1, 11: 2, 4: 2, 16: 2, 17: 2, 7: 2, 13: 3, 2: 3, 6: 3, 8: 3, 5: 3, 3: 4, 0: 4, 1: 4} |41 |\n",
    "|11 |({11: 0, 9: 1, 13: 1, 14: 1, 16: 1, 10: 2, 3: 2, 15: 2, 17: 2, 6: 2, 12: 3, 1: 3, 7: 3, 8: 3, 5: 3, 4: 4, 0: 4, 2: 4} |41 |\n",
    "|12 |({12: 0, 4: 1, 10: 1, 15: 1, 2: 2, 7: 2, 9: 2, 14: 2, 17: 2, 0: 3, 5: 3, 8: 3, 11: 3, 16: 3, 1: 4, 6: 4, 13: 4, 3: 5} |45 |\n",
    "|13 |({13: 0, 3: 1, 11: 1, 16: 1, 1: 2, 6: 2, 9: 2, 14: 2, 17: 2, 0: 3, 5: 3, 8: 3, 10: 3, 15: 3, 2: 4, 7: 4, 12: 4, 4: 5} |45 |\n",
    "|14 |({14: 0, 9: 1, 10: 1, 11: 1, 15: 1, 16: 1, 17: 1, 12: 2, 13: 2, 7: 2, 6: 2, 8: 2, 4: 3, 3: 3, 2: 3, 5: 3, 1: 3, 0: 4} |35 |\n",
    "|15 |({15: 0, 7: 1, 10: 1, 12: 1, 14: 1, 17: 1, 2: 2, 4: 2, 5: 2, 8: 2, 9: 2, 11: 2, 16: 2, 0: 3, 1: 3, 6: 3, 13: 3, 3: 4} |35 |\n",
    "|16 |({16: 0, 6: 1, 11: 1, 13: 1, 14: 1, 17: 1, 1: 2, 3: 2, 5: 2, 8: 2, 9: 2, 10: 2, 15: 2, 0: 3, 2: 3, 7: 3, 12: 3, 4: 4} |35 |\n",
    "|17 |({17: 0, 8: 1, 14: 1, 15: 1, 16: 1, 5: 2, 6: 2, 7: 2, 9: 2, 10: 2, 11: 2, 12: 2, 13: 2, 0: 3, 1: 3, 2: 3, 3: 3, 4: 3} |35 |"
   ]
  },
  {
   "cell_type": "markdown",
   "metadata": {},
   "source": [
    "> Tip:\n",
    "r(PL) Radius The minimum eccentricity from all the nodes"
   ]
  },
  {
   "cell_type": "markdown",
   "metadata": {},
   "source": [
    "> Tip:\n",
    "e(PL) Eccentricity The maximum distance between a node to all other nodes is considered as the eccentricity of node"
   ]
  },
  {
   "cell_type": "markdown",
   "metadata": {},
   "source": [
    "> Tip:\n",
    "d(PL) Diameter The maximum eccentricity from all the nodes or its longest shortest path length"
   ]
  },
  {
   "cell_type": "markdown",
   "metadata": {},
   "source": [
    "> Tip:\n",
    "Central Point If the eccentricity is equal to the radius of PL, then it is the central point of the graph"
   ]
  },
  {
   "cell_type": "markdown",
   "metadata": {},
   "source": [
    "> Tip:\n",
    "PL-center The set of all central points of PL"
   ]
  },
  {
   "cell_type": "markdown",
   "metadata": {},
   "source": [
    "> Tip:\n",
    "PL-circunsference The number of edges in the longest cycle of PL"
   ]
  },
  {
   "cell_type": "markdown",
   "metadata": {},
   "source": [
    "> Tip:\n",
    "PL-Density the number of possible or potential edges, over the number of actual edges or connections"
   ]
  },
  {
   "cell_type": "markdown",
   "metadata": {},
   "source": [
    "### Table 1.2.3. Set of Network Properties of PL Graph Model of the Interior of aPLandscape"
   ]
  },
  {
   "cell_type": "markdown",
   "metadata": {},
   "source": [
    "property\t \n",
    "av_path_length\t2.2037037\n",
    "radius\t3\n",
    "diameter\t5\n",
    "eccentricity\t[0, 1, 2, 3, 4, 5, 6, 7, 8, 9, 10, 11, 12, 13, 14, 15, 16, 17]\n",
    "center\t[8, 17]\n",
    "periphery\t[0, 3, 4, 9, 12, 13]\n",
    "density\t0.35947712418300654"
   ]
  },
  {
   "cell_type": "markdown",
   "metadata": {},
   "source": [
    "> Tip:\n",
    "PL-betweenness centrality is a value metric of a node that is relative to the number of shortest paths passing through the node. A high betweenness centrality means that the node is passed in many shortest paths and is therefore important for the flow in the network."
   ]
  },
  {
   "cell_type": "markdown",
   "metadata": {},
   "source": [
    "A network with a **rich club** property is identified if the set of nodes in the centre core [8,17] or inner [5,6,7,14,15,16] subspaces have high degree and are densely intra-connected. The set of nodes in the core-centre have low betwenness centrality in the same order of peripheral nodes. But, the set of nodes in the inner-centre have high betweenness centrality contribution and degrees (8,7,7) greater than of the set of nodes in the periphery of PL, as shown in Figure 5.4. Therefore, we claim the aPLandscape graph exhibit a **rich club property associated to its most important set of inner-centre patches**. This set of patches is the persistent objective of space-control during all the match duration."
   ]
  },
  {
   "cell_type": "markdown",
   "metadata": {},
   "source": [
    "### Table 1.2.4. Betweenness Centrality Contribution of each Patch"
   ]
  },
  {
   "cell_type": "markdown",
   "metadata": {},
   "source": [
    "| node| bc_contrib | degree| node | bc_contrib | degree| node | bc_contrib |degree|\n",
    "|-----|------------|-------|------|------------|-------|------|------------|------| \n",
    "|  0  |  0.01425   |   5   |  1   |   0.05561  |   6   |   2  |   0.05561  |  6   |\n",
    "|  3  |  0.04527   |   5   |  4   |   0.04527  |   5   |   5  |   0.14973  |  8   |\n",
    "|  6  |  0.15762   |   7   |  7   |   0.15762  |   7   |   8  |   0.06900  |  6   |\n",
    "|  9  |  0.01425   |   5   | 10   |   0.05561  |   6   |  11  |   0.05561  |  6   |\n",
    "| 12  |  0.04527   |   5   | 13   |   0.04527  |   5   |  14  |   0.14973  |  8   |\n",
    "| 15  |  0.15762   |   7   | 16   |   0.15762  |   7   |  17  |   0.06900  |  6   |\n"
   ]
  },
  {
   "cell_type": "code",
   "execution_count": null,
   "metadata": {},
   "outputs": [],
   "source": [
    "![](../images/12DegreeHistogramPatchesinaPLandscape.png \"Figure 1.2.4. Degree Histogram of Patches in aPLandscape\")"
   ]
  },
  {
   "cell_type": "markdown",
   "metadata": {},
   "source": [
    "### 2.4.1 Organization of Space in Meso Subspaces Sets"
   ]
  },
  {
   "cell_type": "markdown",
   "metadata": {},
   "source": [
    "Other organization of the interior subscape in aPLandscape identifies an adjacency mesh between patches in which emerge {own- box, inner, outter, opponent box} meso subspaces whose structure is clearly identificable."
   ]
  },
  {
   "cell_type": "code",
   "execution_count": null,
   "metadata": {},
   "outputs": [],
   "source": [
    "![](../images/12inaFootball_1Neighborhood.png \"Figure 1.2.5. aFootball Adjacency Between Patches Create Meso Subspaces\")"
   ]
  },
  {
   "cell_type": "markdown",
   "metadata": {},
   "source": [
    "Another organization of the interior subspace in aPLandscape identifies other adjacency mesh between patches of meso subspaces {Own, Them, Both} that divides the landscape in own field and their field and the complete field can be seen as a both teams subspace."
   ]
  },
  {
   "cell_type": "code",
   "execution_count": null,
   "metadata": {},
   "outputs": [],
   "source": [
    "![](../images/12inaFootball_team_half.png \"Figure 1.2.6. aFootball Adjacency Between Half-Landscape Patches Create Meso Subspaces\")"
   ]
  },
  {
   "cell_type": "markdown",
   "metadata": {},
   "source": [
    "### 2.4.2. Value of Patch Subspaces Control"
   ]
  },
  {
   "cell_type": "markdown",
   "metadata": {},
   "source": [
    "Today, one main problem of the football analytical community ask how to value the distint zones of a football field taking into account its control importance for the expected goal possibility. Figure 1.2.7. shown an intrinsic score goal value of each patch in function of its degree or number of adjacent patches and distance to the center of the opponent goal."
   ]
  },
  {
   "cell_type": "code",
   "execution_count": null,
   "metadata": {},
   "outputs": [],
   "source": [
    "![](../images/12inaFootballMeshStructureScoreGoalImportance.png \"Figure 1.2.7. Flow in aPLandscape as a Mesh Structure of Scored Goal Importance Patched Zones\")"
   ]
  },
  {
   "cell_type": "markdown",
   "metadata": {},
   "source": [
    "This information capture the importance of patches as team and players affordances for global and local ‘aPLandscape control’. [BarcaInnoHub] estimates that current tracking systems operate at a rate of 25Hz and the event’s match dynamics generate an average of 2700 frames by half times. With our importance weight of the inner patches {5,6,7,14,15,16,8,17} subset patches’ centroids are reference points to explore as potential affordances of open space to be controlled for **core synergons** and the ‘convex hull’ frontier between inner an outter subsets structures for **membrane synergons**. The collective and individual effort of team and player has to be keep *on-ball control, progress, inside the opponent half aPLandscape, to the opponent goal and try to end-up the trajectory structure construction as an effective Levy flight with a final ball action that scores a goal*, and viceversa. In off-ball control, the motor task with respect to the value of patches subspaces is the inverse: Try to *regain ball control, stop the progress of the opponents in our own half aPLandscape, the farest of our goal the better, and break or at least abort the risk of a conceded goal*.\n",
    "\n",
    "So, **ball-control** and **patch subspaces-control** are the key factors of our possitional relations as a synergestic team during the match in order to evaluate our **motor and strategic task efficiency**. At the end, this efficiency has to correlate with the real one **goal difference efficiency**. **Efficiency** has to be the ratio between the number of own Levy flight built and intervals of simultaneous ball-control and opponent-subspace-control. So, the ratio between the number of opponent Levy flights built and the their interval of simultaneous ball-control and own-subspace-control."
   ]
  },
  {
   "cell_type": "markdown",
   "metadata": {},
   "source": [
    "{{ 'The *perimeter lane* and the *goal lfixed locations* on the aPBLandscape impose a **global regulatory constrain** on actual football flow by reducing degrees of freedom of Gon autonomy about which direction of play to choose next.' | fndetail: 1 }}"
   ]
  },
  {
   "cell_type": "markdown",
   "metadata": {},
   "source": [
    "{{ 'The reduced open subspaces as the ball is near to a goal is a first reason football is noy played in a circular field with rotational symmetry' | fndetail: 2 }}"
   ]
  }
 ],
 "metadata": {
  "kernelspec": {
   "display_name": "Python 3",
   "language": "python",
   "name": "python3"
  },
  "language_info": {
   "codemirror_mode": {
    "name": "ipython",
    "version": 3
   },
   "file_extension": ".py",
   "mimetype": "text/x-python",
   "name": "python",
   "nbconvert_exporter": "python",
   "pygments_lexer": "ipython3",
   "version": "3.6.8"
  }
 },
 "nbformat": 4,
 "nbformat_minor": 4
}
